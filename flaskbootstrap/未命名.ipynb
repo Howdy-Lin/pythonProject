{
 "cells": [
  {
   "cell_type": "code",
   "execution_count": 1,
   "id": "77b5a34d",
   "metadata": {},
   "outputs": [],
   "source": [
    "import json\n",
    "with open('./reptile_final.json')as f:\n",
    "    data = json.load(f)"
   ]
  },
  {
   "cell_type": "code",
   "execution_count": 5,
   "id": "9b892439",
   "metadata": {},
   "outputs": [],
   "source": [
    "jsonObject = data\n",
    "sareas = list({datalist['品牌'] for datalist in jsonObject})"
   ]
  },
  {
   "cell_type": "code",
   "execution_count": 6,
   "id": "148feb89",
   "metadata": {},
   "outputs": [
    {
     "name": "stdout",
     "output_type": "stream",
     "text": [
      "['', '春風', '簡約組合', '百吉', '情人', '優活', '家樂福', '可麗舒', 'MAY FLOWER 五月花', 'Benibear 邦尼熊', '舒潔', '淨世代', '科克蘭', '唯潔雅', '雪柔', '五月花', '倍潔雅', 'Kleenex 舒潔', '得意', '原萃', '舒適', '寶島春風', '蒲公英', '柔情']\n"
     ]
    }
   ],
   "source": [
    "print(sareas)"
   ]
  },
  {
   "cell_type": "code",
   "execution_count": null,
   "id": "a04ca595",
   "metadata": {},
   "outputs": [],
   "source": []
  }
 ],
 "metadata": {
  "kernelspec": {
   "display_name": "Python 3",
   "language": "python",
   "name": "python3"
  },
  "language_info": {
   "codemirror_mode": {
    "name": "ipython",
    "version": 3
   },
   "file_extension": ".py",
   "mimetype": "text/x-python",
   "name": "python",
   "nbconvert_exporter": "python",
   "pygments_lexer": "ipython3",
   "version": "3.6.9"
  }
 },
 "nbformat": 4,
 "nbformat_minor": 5
}
